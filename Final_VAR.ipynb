{
 "cells": [
  {
   "cell_type": "code",
   "execution_count": 1,
   "id": "66b44295",
   "metadata": {},
   "outputs": [
    {
     "name": "stdout",
     "output_type": "stream",
     "text": [
      "Requirement already satisfied: norm in /opt/miniconda3/lib/python3.13/site-packages (1.6.0)\n",
      "Note: you may need to restart the kernel to use updated packages.\n"
     ]
    }
   ],
   "source": [
    "pip install norm"
   ]
  },
  {
   "cell_type": "code",
   "execution_count": 2,
   "id": "94be8fc4",
   "metadata": {},
   "outputs": [
    {
     "name": "stdout",
     "output_type": "stream",
     "text": [
      "Requirement already satisfied: scipy in /opt/miniconda3/lib/python3.13/site-packages (1.15.3)\n",
      "Requirement already satisfied: numpy<2.5,>=1.23.5 in /opt/miniconda3/lib/python3.13/site-packages (from scipy) (2.2.6)\n",
      "Note: you may need to restart the kernel to use updated packages.\n"
     ]
    }
   ],
   "source": [
    "%pip install scipy\n",
    "\n",
    "import numpy as np\n",
    "import pandas as pd\n",
    "import datetime as dt\n",
    "import yfinance as yf\n",
    "import xlwings as xw\n",
    "import matplotlib.pyplot as plt\n",
    "from scipy.stats import norm"
   ]
  },
  {
   "cell_type": "code",
   "execution_count": 3,
   "id": "a95c8a0a",
   "metadata": {},
   "outputs": [],
   "source": [
    "book = xw.Book('Richspread.xlsx') \n",
    "sht = book.sheets['VAR_inputs']"
   ]
  },
  {
   "cell_type": "code",
   "execution_count": 4,
   "id": "6fa378fa",
   "metadata": {},
   "outputs": [
    {
     "name": "stdout",
     "output_type": "stream",
     "text": [
      "['AAPL', 'GOOG', 'SPY', 'MSFT', 'JNJ', 'NVDA', 'UNH', 'JPM', 'XOM', 'SNAP']\n",
      "[0.03537151142689441, 0.030371323815164924, 0.052231440509660665, 0.08431137114692411, 0.026282393175221314, 0.027625827166714464, 0.0509399347647215, 0.05285725963587244, 0.00966786693504078, 0.01526020406795833, 0.06009521965313271, 0.018952134887473167, 0.5360335128152213]\n"
     ]
    }
   ],
   "source": [
    "tickers = sht.range('B2:K2').value\n",
    "tickers = [t for t in tickers if t is not None] \n",
    "print(tickers)\n",
    "\n",
    "weights = sht.range('B12:AA12').value\n",
    "weights = [w for w in weights if w is not None] \n",
    "print(weights)"
   ]
  },
  {
   "cell_type": "code",
   "execution_count": 5,
   "id": "ec9c7706",
   "metadata": {},
   "outputs": [
    {
     "name": "stdout",
     "output_type": "stream",
     "text": [
      "YF.download() has changed argument auto_adjust default to True\n"
     ]
    },
    {
     "name": "stderr",
     "output_type": "stream",
     "text": [
      "[*********************100%***********************]  1 of 1 completed\n",
      "[*********************100%***********************]  1 of 1 completed\n",
      "[*********************100%***********************]  1 of 1 completed\n",
      "[*********************100%***********************]  1 of 1 completed\n",
      "[*********************100%***********************]  1 of 1 completed\n",
      "[*********************100%***********************]  1 of 1 completed\n",
      "[*********************100%***********************]  1 of 1 completed\n",
      "[*********************100%***********************]  1 of 1 completed\n",
      "[*********************100%***********************]  1 of 1 completed\n",
      "[*********************100%***********************]  1 of 1 completed"
     ]
    },
    {
     "name": "stdout",
     "output_type": "stream",
     "text": [
      "                  AAPL        GOOG         SPY        MSFT         JNJ  \\\n",
      "Date                                                                     \n",
      "2015-07-17   29.030582   33.447685  179.115112   40.423767   75.770081   \n",
      "2015-07-20   29.579300   32.955109  179.207840   40.683880   75.989639   \n",
      "2015-07-21   29.283665   32.919327  178.499741   40.996040   75.966927   \n",
      "2015-07-22   28.045128   32.909386  178.179443   39.487305   75.845795   \n",
      "2015-07-23   28.031685   32.023647  177.176239   39.981556   75.860909   \n",
      "...                ...         ...         ...         ...         ...   \n",
      "2025-07-07  209.949997  177.559998  620.679993  497.720001  155.270004   \n",
      "2025-07-08  210.009995  175.160004  620.340027  496.619995  155.789993   \n",
      "2025-07-09  211.139999  177.660004  624.059998  503.510010  156.279999   \n",
      "2025-07-10  212.410004  178.699997  625.820007  501.480011  157.690002   \n",
      "2025-07-11  211.160004  181.309998  623.619995  503.320007  156.899994   \n",
      "\n",
      "                  NVDA         UNH         JPM         XOM  SNAP  \n",
      "Date                                                              \n",
      "2015-07-17    0.485718  105.975548   52.684460   53.307503   NaN  \n",
      "2015-07-20    0.476764  104.948738   52.722519   52.759003   NaN  \n",
      "2015-07-21    0.478942  103.417107   52.600716   52.694473   NaN  \n",
      "2015-07-22    0.469745  103.203156   53.346725   52.778347   NaN  \n",
      "2015-07-23    0.475554  102.107903   53.011799   52.358917   NaN  \n",
      "...                ...         ...         ...         ...   ...  \n",
      "2025-07-07  158.240005  303.709991  291.970001  111.110001  9.19  \n",
      "2025-07-08  160.000000  307.700012  282.779999  114.190002  9.32  \n",
      "2025-07-09  162.880005  302.910004  283.160004  113.800003  9.12  \n",
      "2025-07-10  164.100006  299.510010  288.190002  114.930000  9.34  \n",
      "2025-07-11  164.919998  304.100006  286.859985  115.430000  9.11  \n",
      "\n",
      "[2511 rows x 10 columns]\n"
     ]
    },
    {
     "name": "stderr",
     "output_type": "stream",
     "text": [
      "\n"
     ]
    }
   ],
   "source": [
    "\n",
    "\n",
    "endDate = sht.range('B8').value.strftime('%Y-%m-%d')\n",
    "startDate =sht.range('B6').value.strftime('%Y-%m-%d')\n",
    "\n",
    "\n",
    "close_df = pd.DataFrame()\n",
    "\n",
    "for ticker in tickers:\n",
    "    data = yf.download(ticker, start=startDate, end=endDate)\n",
    "    \n",
    "    close_df[ticker] = data['Close']\n",
    "\n",
    "print(close_df)"
   ]
  },
  {
   "cell_type": "code",
   "execution_count": 6,
   "id": "6e82e4e2",
   "metadata": {},
   "outputs": [
    {
     "name": "stdout",
     "output_type": "stream",
     "text": [
      "                AAPL      GOOG       SPY      MSFT       JNJ      NVDA  \\\n",
      "Date                                                                     \n",
      "2017-03-03  0.005884 -0.001868  0.000629  0.003742  0.001293 -0.005774   \n",
      "2017-03-06 -0.003153 -0.001569 -0.002982  0.000311 -0.000646 -0.007751   \n",
      "2017-03-07  0.001291  0.004977 -0.002991  0.002021  0.000970  0.010895   \n",
      "2017-03-08 -0.003734  0.004150 -0.001858  0.009120  0.002178 -0.001825   \n",
      "2017-03-09 -0.002305  0.003954  0.001267 -0.004009  0.014797 -0.000203   \n",
      "...              ...       ...       ...       ...       ...       ...   \n",
      "2025-07-07 -0.017002 -0.016699 -0.007480 -0.002248 -0.004755 -0.006927   \n",
      "2025-07-08  0.000286 -0.013609 -0.000548 -0.002213  0.003343  0.011061   \n",
      "2025-07-09  0.005366  0.014172  0.005979  0.013778  0.003140  0.017840   \n",
      "2025-07-10  0.005997  0.005837  0.002816 -0.004040  0.008982  0.007462   \n",
      "2025-07-11 -0.005902  0.014500 -0.003522  0.003662 -0.005022  0.004984   \n",
      "\n",
      "                 UNH       JPM       XOM      SNAP  \n",
      "Date                                                \n",
      "2017-03-03  0.005306  0.007138 -0.010135  0.101308  \n",
      "2017-03-06  0.002968 -0.009528  0.004477 -0.130740  \n",
      "2017-03-07 -0.002374 -0.005563 -0.003750 -0.103166  \n",
      "2017-03-08  0.001401 -0.002191 -0.018222  0.061941  \n",
      "2017-03-09  0.000595  0.003939  0.007867 -0.004394  \n",
      "...              ...       ...       ...       ...  \n",
      "2025-07-07 -0.015811 -0.013708 -0.009762 -0.008668  \n",
      "2025-07-08  0.013052 -0.031982  0.027343  0.014047  \n",
      "2025-07-09 -0.015690  0.001343 -0.003421 -0.021693  \n",
      "2025-07-10 -0.011288  0.017608  0.009881  0.023836  \n",
      "2025-07-11  0.015209 -0.004626  0.004341 -0.024934  \n",
      "\n",
      "[2101 rows x 10 columns]\n"
     ]
    }
   ],
   "source": [
    "log_returns = np.log(close_df / close_df.shift(1))\n",
    "log_returns = log_returns.dropna()\n",
    "print(log_returns)\n"
   ]
  },
  {
   "cell_type": "code",
   "execution_count": 7,
   "id": "616e39c9",
   "metadata": {},
   "outputs": [],
   "source": [
    "def expected_return(weights, log_returns):\n",
    "    return np.sum(log_returns.mean()*weights)"
   ]
  },
  {
   "cell_type": "code",
   "execution_count": 8,
   "id": "18961d30",
   "metadata": {},
   "outputs": [
    {
     "name": "stdout",
     "output_type": "stream",
     "text": [
      "          AAPL      GOOG       SPY      MSFT       JNJ      NVDA       UNH  \\\n",
      "AAPL  0.000361  0.000226  0.000177  0.000237  0.000073  0.000352  0.000121   \n",
      "GOOG  0.000226  0.000355  0.000166  0.000241  0.000058  0.000352  0.000112   \n",
      "SPY   0.000177  0.000166  0.000144  0.000170  0.000067  0.000264  0.000110   \n",
      "MSFT  0.000237  0.000241  0.000170  0.000307  0.000071  0.000370  0.000127   \n",
      "JNJ   0.000073  0.000058  0.000067  0.000071  0.000145  0.000049  0.000092   \n",
      "NVDA  0.000352  0.000352  0.000264  0.000370  0.000049  0.001034  0.000146   \n",
      "UNH   0.000121  0.000112  0.000110  0.000127  0.000092  0.000146  0.000362   \n",
      "JPM   0.000148  0.000142  0.000154  0.000139  0.000078  0.000205  0.000126   \n",
      "XOM   0.000112  0.000099  0.000119  0.000088  0.000066  0.000128  0.000104   \n",
      "SNAP  0.000273  0.000338  0.000215  0.000269  0.000029  0.000523  0.000083   \n",
      "\n",
      "           JPM       XOM      SNAP  \n",
      "AAPL  0.000148  0.000112  0.000273  \n",
      "GOOG  0.000142  0.000099  0.000338  \n",
      "SPY   0.000154  0.000119  0.000215  \n",
      "MSFT  0.000139  0.000088  0.000269  \n",
      "JNJ   0.000078  0.000066  0.000029  \n",
      "NVDA  0.000205  0.000128  0.000523  \n",
      "UNH   0.000126  0.000104  0.000083  \n",
      "JPM   0.000320  0.000184  0.000182  \n",
      "XOM   0.000184  0.000343  0.000109  \n",
      "SNAP  0.000182  0.000109  0.002186  \n"
     ]
    }
   ],
   "source": [
    "cov_matrix = log_returns.cov()\n",
    "print(cov_matrix)\n"
   ]
  },
  {
   "cell_type": "code",
   "execution_count": 9,
   "id": "52a272eb",
   "metadata": {},
   "outputs": [],
   "source": [
    "def standard_deviation (weights, cov_matrix):\n",
    "    variance = weights.T @ cov_matrix @ weights\n",
    "    return np.sqrt(variance)"
   ]
  },
  {
   "cell_type": "code",
   "execution_count": 10,
   "id": "641bdc98",
   "metadata": {},
   "outputs": [],
   "source": [
    "weights = np.array(weights) \n",
    "\n",
    "\n",
    "weights = weights[:len(tickers)]\n",
    "\n",
    "Portfolio_value = sht.range('B10').value,  \n",
    "portfolio_expected_return = expected_return(weights, log_returns)\n",
    "portfolio_std_dev = standard_deviation(weights, cov_matrix)"
   ]
  },
  {
   "cell_type": "code",
   "execution_count": 11,
   "id": "f49e68d4",
   "metadata": {},
   "outputs": [],
   "source": [
    "def random_z_score():\n",
    "    return np.random.normal(0, 1)\n",
    " "
   ]
  },
  {
   "cell_type": "code",
   "execution_count": 12,
   "id": "04210806",
   "metadata": {},
   "outputs": [],
   "source": [
    "days = sht.range('B14').value\n",
    "\n",
    "def scenario_gain_loss(portfolio_value, portfolio_expected_return, portfolio_std_dev, z_score, days):\n",
    "    return portfolio_value * portfolio_expected_return * days + portfolio_value * portfolio_std_dev * z_score * np.sqrt(days)"
   ]
  },
  {
   "cell_type": "code",
   "execution_count": 13,
   "id": "def3bb14",
   "metadata": {},
   "outputs": [],
   "source": [
    "def scenario_gain_loss(portfolio_value, portfolio_expected_return, portfolio_std_dev, z_score, days):\n",
    "    return portfolio_value * portfolio_expected_return * days + portfolio_value * portfolio_std_dev * z_score * np.sqrt(days)\n",
    "\n",
    "simulations = sht.range('B16').value\n",
    "scenarioReturn = []\n",
    "\n",
    "\n",
    "portfolio_value_scalar = Portfolio_value[0]\n",
    "\n",
    "for i in range(int(simulations)):\n",
    "    z_score = random_z_score()\n",
    "    scenarioReturn.append(scenario_gain_loss(portfolio_value_scalar, portfolio_expected_return, portfolio_std_dev, z_score, days))"
   ]
  },
  {
   "cell_type": "code",
   "execution_count": 14,
   "id": "19d244b9",
   "metadata": {},
   "outputs": [
    {
     "name": "stdout",
     "output_type": "stream",
     "text": [
      "Value at Risk (VaR) at 95.0% confidence level: $23525.79\n"
     ]
    }
   ],
   "source": [
    "confidence_interval = sht.range('B18').value\n",
    "VaR =-np.percentile(scenarioReturn, 100*(1-confidence_interval))\n",
    "print(f\"Value at Risk (VaR) at {confidence_interval*100}% confidence level: ${VaR:.2f}\")"
   ]
  },
  {
   "cell_type": "code",
   "execution_count": 15,
   "id": "975426ec",
   "metadata": {},
   "outputs": [
    {
     "data": {
      "image/png": "[encoded data removed]",
      "text/plain": [
       "<Figure size 640x480 with 1 Axes>"
      ]
     },
     "metadata": {},
     "output_type": "display_data"
    }
   ],
   "source": [
    "\n",
    "n, bins, patches = plt.hist(scenarioReturn, bins=50, density=True, alpha=0.7)\n",
    "\n",
    "plt.xlabel('Scenario Gain/Loss ($)')\n",
    "plt.ylabel('Frequency')\n",
    "plt.title(f'Distribution of Portfolio Gain/Loss Over {days} Days')\n",
    "plt.axvline(-VaR, color='r', linestyle='dashed', linewidth=2, label=f'VaR at {confidence_interval:.0%} confidence level')\n",
    "\n",
    "\n",
    "for i in range(len(bins)-1):\n",
    "    if bins[i+1] < -VaR:\n",
    "        patches[i].set_facecolor('red')\n",
    "\n",
    "plt.legend()\n",
    "plt.savefig('var_hist.png')\n",
    "plt.show()\n",
    "\n"
   ]
  },
  {
   "cell_type": "code",
   "execution_count": 16,
   "id": "e98dcb24",
   "metadata": {},
   "outputs": [
    {
     "name": "stdout",
     "output_type": "stream",
     "text": [
      "There is a 95% confidence that the portfolio will not lose more than $23,525.79 over 30.0 days.\n"
     ]
    },
    {
     "data": {
      "text/plain": [
       "<Picture 'VaR_Hist' in <Sheet [Richspread.xlsx]Portfolio>>"
      ]
     },
     "execution_count": 16,
     "metadata": {},
     "output_type": "execute_result"
    }
   ],
   "source": [
    "book = xw.Book('Richspread.xlsx')\n",
    "portfolio = book.sheets['Portfolio']\n",
    "confidence_pct = int(confidence_interval * 100)\n",
    "statement = f\"There is a {confidence_pct}% confidence that the portfolio will not lose more than ${VaR:,.2f} over {days} days.\"\n",
    "\n",
    "\n",
    "print(statement)\n",
    "\n",
    "\n",
    "portfolio.range('A24').value = statement\n",
    "portfolio.pictures.add('var_hist.png', name='VaR_Hist', update=True, left=portfolio.range('A25').left, top=portfolio.range('A25').top)\n"
   ]
  },
  {
   "cell_type": "code",
   "execution_count": 20,
   "id": "1e71b51c",
   "metadata": {},
   "outputs": [
    {
     "name": "stdout",
     "output_type": "stream",
     "text": [
      "Expected Shortfall (ES) at 95.0% confidence level: $30782.70\n",
      "The Expected Shortfall at 95.0% confidence level is $30,782.70.\n"
     ]
    }
   ],
   "source": [
    "# Calculate Expected Shortfall (ES)\n",
    "losses = np.array(scenarioReturn)\n",
    "threshold = np.percentile(losses, 100*(1-confidence_interval))\n",
    "expected_shortfall = -losses[losses <= threshold].mean()\n",
    "print(f\"Expected Shortfall (ES) at {confidence_interval*100}% confidence level: ${expected_shortfall:.2f}\")\n",
    "\n",
    "es_statement = f\"The Expected Shortfall at {confidence_interval*100}% confidence level is ${expected_shortfall:,.2f}.\"\n",
    "print(es_statement)\n",
    "\n",
    "portfolio.range('A49').value = es_statement"
   ]
  }
 ],
 "metadata": {
  "kernelspec": {
   "display_name": "base",
   "language": "python",
   "name": "python3"
  },
  "language_info": {
   "codemirror_mode": {
    "name": "ipython",
    "version": 3
   },
   "file_extension": ".py",
   "mimetype": "text/x-python",
   "name": "python",
   "nbconvert_exporter": "python",
   "pygments_lexer": "ipython3",
   "version": "3.13.2"
  }
 },
 "nbformat": 4,
 "nbformat_minor": 5
}
