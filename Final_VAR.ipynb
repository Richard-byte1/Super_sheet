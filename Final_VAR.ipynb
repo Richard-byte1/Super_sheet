{
 "cells": [
  {
   "cell_type": "code",
   "execution_count": null,
   "id": "66b44295",
   "metadata": {},
   "outputs": [],
   "source": [
    "pip install norm"
   ]
  },
  {
   "cell_type": "code",
   "execution_count": null,
   "id": "94be8fc4",
   "metadata": {},
   "outputs": [],
   "source": [
    "%pip install scipy\n",
    "\n",
    "import numpy as np\n",
    "import pandas as pd\n",
    "import datetime as dt\n",
    "import yfinance as yf\n",
    "import xlwings as xw\n",
    "import matplotlib.pyplot as plt\n",
    "from scipy.stats import norm"
   ]
  },
  {
   "cell_type": "code",
   "execution_count": null,
   "id": "a95c8a0a",
   "metadata": {},
   "outputs": [],
   "source": [
    "book = xw.Book('Richspread.xlsx') \n",
    "sht = book.sheets['VAR_inputs']"
   ]
  },
  {
   "cell_type": "code",
   "execution_count": null,
   "id": "6fa378fa",
   "metadata": {},
   "outputs": [],
   "source": [
    "tickers = sht.range('B2:K2').value\n",
    "tickers = [t for t in tickers if t is not None] \n",
    "print(tickers)\n",
    "\n",
    "weights = sht.range('B12:AA12').value\n",
    "weights = [w for w in weights if w is not None] \n",
    "print(weights)"
   ]
  },
  {
   "cell_type": "code",
   "execution_count": null,
   "id": "ec9c7706",
   "metadata": {},
   "outputs": [],
   "source": [
    "\n",
    "\n",
    "endDate = sht.range('B8').value.strftime('%Y-%m-%d')\n",
    "startDate =sht.range('B6').value.strftime('%Y-%m-%d')\n",
    "\n",
    "\n",
    "close_df = pd.DataFrame()\n",
    "\n",
    "for ticker in tickers:\n",
    "    data = yf.download(ticker, start=startDate, end=endDate)\n",
    "    \n",
    "    close_df[ticker] = data['Close']\n",
    "\n",
    "print(close_df)"
   ]
  },
  {
   "cell_type": "code",
   "execution_count": null,
   "id": "6e82e4e2",
   "metadata": {},
   "outputs": [],
   "source": [
    "log_returns = np.log(close_df / close_df.shift(1))\n",
    "log_returns = log_returns.dropna()\n",
    "print(log_returns)\n"
   ]
  },
  {
   "cell_type": "code",
   "execution_count": null,
   "id": "616e39c9",
   "metadata": {},
   "outputs": [],
   "source": [
    "def expected_return(weights, log_returns):\n",
    "    return np.sum(log_returns.mean()*weights)"
   ]
  },
  {
   "cell_type": "code",
   "execution_count": null,
   "id": "18961d30",
   "metadata": {},
   "outputs": [],
   "source": [
    "cov_matrix = log_returns.cov()\n",
    "print(cov_matrix)\n"
   ]
  },
  {
   "cell_type": "code",
   "execution_count": null,
   "id": "52a272eb",
   "metadata": {},
   "outputs": [],
   "source": [
    "def standard_deviation (weights, cov_matrix):\n",
    "    variance = weights.T @ cov_matrix @ weights\n",
    "    return np.sqrt(variance)"
   ]
  },
  {
   "cell_type": "code",
   "execution_count": null,
   "id": "641bdc98",
   "metadata": {},
   "outputs": [],
   "source": [
    "weights = np.array(weights) \n",
    "\n",
    "\n",
    "weights = weights[:len(tickers)]\n",
    "\n",
    "Portfolio_value = sht.range('B10').value,  \n",
    "portfolio_expected_return = expected_return(weights, log_returns)\n",
    "portfolio_std_dev = standard_deviation(weights, cov_matrix)"
   ]
  },
  {
   "cell_type": "code",
   "execution_count": null,
   "id": "f49e68d4",
   "metadata": {},
   "outputs": [],
   "source": [
    "def random_z_score():\n",
    "    return np.random.normal(0, 1)\n",
    " "
   ]
  },
  {
   "cell_type": "code",
   "execution_count": null,
   "id": "04210806",
   "metadata": {},
   "outputs": [],
   "source": [
    "days = sht.range('B14').value\n",
    "\n",
    "def scenario_gain_loss(portfolio_value, portfolio_expected_return, portfolio_std_dev, z_score, days):\n",
    "    return portfolio_value * portfolio_expected_return * days + portfolio_value * portfolio_std_dev * z_score * np.sqrt(days)"
   ]
  },
  {
   "cell_type": "code",
   "execution_count": null,
   "id": "def3bb14",
   "metadata": {},
   "outputs": [],
   "source": [
    "def scenario_gain_loss(portfolio_value, portfolio_expected_return, portfolio_std_dev, z_score, days):\n",
    "    return portfolio_value * portfolio_expected_return * days + portfolio_value * portfolio_std_dev * z_score * np.sqrt(days)\n",
    "\n",
    "simulations = sht.range('B16').value\n",
    "scenarioReturn = []\n",
    "\n",
    "\n",
    "portfolio_value_scalar = Portfolio_value[0]\n",
    "\n",
    "for i in range(int(simulations)):\n",
    "    z_score = random_z_score()\n",
    "    scenarioReturn.append(scenario_gain_loss(portfolio_value_scalar, portfolio_expected_return, portfolio_std_dev, z_score, days))"
   ]
  },
  {
   "cell_type": "code",
   "execution_count": null,
   "id": "19d244b9",
   "metadata": {},
   "outputs": [],
   "source": [
    "confidence_interval = sht.range('B18').value\n",
    "VaR =-np.percentile(scenarioReturn, 100*(1-confidence_interval))\n",
    "print(f\"Value at Risk (VaR) at {confidence_interval*100}% confidence level: ${VaR:.2f}\")"
   ]
  },
  {
   "cell_type": "code",
   "execution_count": null,
   "id": "975426ec",
   "metadata": {},
   "outputs": [],
   "source": [
    "\n",
    "n, bins, patches = plt.hist(scenarioReturn, bins=50, density=True, alpha=0.7)\n",
    "\n",
    "plt.xlabel('Scenario Gain/Loss ($)')\n",
    "plt.ylabel('Frequency')\n",
    "plt.title(f'Distribution of Portfolio Gain/Loss Over {days} Days')\n",
    "plt.axvline(-VaR, color='r', linestyle='dashed', linewidth=2, label=f'VaR at {confidence_interval:.0%} confidence level')\n",
    "\n",
    "\n",
    "for i in range(len(bins)-1):\n",
    "    if bins[i+1] < -VaR:\n",
    "        patches[i].set_facecolor('red')\n",
    "\n",
    "plt.legend()\n",
    "plt.savefig('var_hist.png')\n",
    "plt.show()\n",
    "\n"
   ]
  },
  {
   "cell_type": "code",
   "execution_count": null,
   "id": "e98dcb24",
   "metadata": {},
   "outputs": [],
   "source": [
    "book = xw.Book('Richspread.xlsx')\n",
    "portfolio = book.sheets['Portfolio']\n",
    "confidence_pct = int(confidence_interval * 100)\n",
    "statement = f\"There is a {confidence_pct}% confidence that the portfolio will not lose more than ${VaR:,.2f} over {days} days.\"\n",
    "\n",
    "\n",
    "print(statement)\n",
    "\n",
    "\n",
    "portfolio.range('A24').value = statement\n",
    "portfolio.pictures.add('var_hist.png', name='VaR_Hist', update=True, left=portfolio.range('A25').left, top=portfolio.range('A25').top)\n"
   ]
  }
 ],
 "metadata": {
  "kernelspec": {
   "display_name": "Python 3 (ipykernel)",
   "language": "python",
   "name": "python3"
  },
  "language_info": {
   "codemirror_mode": {
    "name": "ipython",
    "version": 3
   },
   "file_extension": ".py",
   "mimetype": "text/x-python",
   "name": "python",
   "nbconvert_exporter": "python",
   "pygments_lexer": "ipython3",
   "version": "3.12.4"
  }
 },
 "nbformat": 4,
 "nbformat_minor": 5
}
