{
 "cells": [
  {
   "cell_type": "code",
   "execution_count": 13,
   "id": "b91f65f4",
   "metadata": {},
   "outputs": [],
   "source": [
    "import xlwings as xw\n",
    "book = xw.Book('Richspread.xlsx')\n",
    "sht = book.sheets['BSM data']"
   ]
  },
  {
   "cell_type": "code",
   "execution_count": 14,
   "id": "8469b3fb",
   "metadata": {},
   "outputs": [
    {
     "data": {
      "text/plain": [
       "('AAPL', '2026-06-18', 250.0, 'C')"
      ]
     },
     "execution_count": 14,
     "metadata": {},
     "output_type": "execute_result"
    }
   ],
   "source": [
    "sht.range('B2').value, sht.range('B3').value.strftime('%Y-%m-%d'), sht.range('B4').value, sht.range('B5').value"
   ]
  },
  {
   "cell_type": "code",
   "execution_count": null,
   "id": "ad147719",
   "metadata": {},
   "outputs": [
    {
     "name": "stdout",
     "output_type": "stream",
     "text": [
      "ERROR: 504 = Not connected\n",
      "No data received\n"
     ]
    }
   ],
   "source": [
    "import xlwings as xw\n",
    "from ibapi.client import EClient\n",
    "from ibapi.wrapper import EWrapper\n",
    "from ibapi.contract import Contract\n",
    "import threading\n",
    "import time\n",
    "\n",
    "class OptionGreeksApp(EWrapper, EClient):\n",
    "    def __init__(self):\n",
    "        EClient.__init__(self, self)\n",
    "        self.latest_greeks = None\n",
    "\n",
    "    def tickOptionComputation(self, reqId, tickType, tickAttrib, impliedVol, delta, optPrice, pvDividend, gamma, vega, theta, undPrice):\n",
    "        \n",
    "        if tickType == 13:\n",
    "            print(f\"ReqId: {reqId}, TickType: {tickType}, Implied Volatility: {impliedVol}\")\n",
    "            print(f\"Delta: {delta}, Option Price: {optPrice}, PV Dividend: {pvDividend}\")\n",
    "            print(f\"Gamma: {gamma}, Vega: {vega}, Theta: {theta}, Underlying Price: {undPrice}\")\n",
    "            self.latest_greeks = [impliedVol, delta, optPrice, pvDividend, gamma, vega, theta, undPrice]\n",
    "\n",
    "    def error(self, reqId, errorCode, errorString, advancedOrderRejectJson=\"\"):\n",
    "        suppress_codes = [2104, 2106, 2158, 2108]\n",
    "        if errorCode in suppress_codes and \"is OK\" in errorString:\n",
    "            return \n",
    "        print(f\"ERROR: {errorCode} = {errorString}\")\n",
    "        \n",
    "\n",
    "book = xw.Book('Richspread.xlsx')\n",
    "sht = book.sheets['BSM data']\n",
    "symbol = sht.range('B2').value\n",
    "expiry = sht.range('B3').value.strftime('%Y%m%d')  \n",
    "strike = sht.range('B4').value\n",
    "right = sht.range('B5').value        \n",
    "\n",
    "def create_option_contract(symbol, expiry, strike, right):\n",
    "    contract = Contract()\n",
    "    contract.symbol = symbol\n",
    "    contract.secType = \"OPT\"\n",
    "    contract.exchange = \"SMART\"\n",
    "    contract.currency = \"USD\"\n",
    "    contract.lastTradeDateOrContractMonth = expiry\n",
    "    contract.strike = strike\n",
    "    contract.right = right\n",
    "    contract.multiplier = \"100\"\n",
    "    return contract\n",
    "\n",
    "\n",
    "\n",
    "app = OptionGreeksApp()\n",
    "app.connect(\"127.0.0.1\", 7497, clientId=1)\n",
    "threading.Thread(target=app.run, daemon=True).start()\n",
    "time.sleep(5) \n",
    "\n",
    "option_contract = create_option_contract(symbol, expiry, strike, right)\n",
    "app.reqMktData(1, option_contract, \"\", False, False, [])\n",
    "\n",
    "try:\n",
    "    time.sleep(10)  \n",
    "finally:\n",
    "    app.disconnect()\n",
    "\n",
    "\n",
    "greeks = app.latest_greeks\n",
    "if greeks:\n",
    "    sht.range('A8').value = greeks\n",
    "else:\n",
    "    print(\"No data received\")"
   ]
  }
 ],
 "metadata": {
  "kernelspec": {
   "display_name": "base",
   "language": "python",
   "name": "python3"
  },
  "language_info": {
   "codemirror_mode": {
    "name": "ipython",
    "version": 3
   },
   "file_extension": ".py",
   "mimetype": "text/x-python",
   "name": "python",
   "nbconvert_exporter": "python",
   "pygments_lexer": "ipython3",
   "version": "3.13.2"
  }
 },
 "nbformat": 4,
 "nbformat_minor": 5
}
