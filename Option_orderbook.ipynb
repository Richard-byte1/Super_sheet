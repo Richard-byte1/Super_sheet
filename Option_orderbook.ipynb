{
 "cells": [
  {
   "cell_type": "code",
   "execution_count": 22,
   "id": "d6d70f02",
   "metadata": {},
   "outputs": [],
   "source": [
    "import numpy as np\n",
    "import matplotlib.pyplot as plt\n",
    "from scipy.stats import norm\n",
    "import yfinance as yf\n",
    "import pandas as pd\n",
    "import xlwings as xw\n",
    "from datetime import datetime"
   ]
  },
  {
   "cell_type": "code",
   "execution_count": 23,
   "id": "a95a454b",
   "metadata": {},
   "outputs": [
    {
     "name": "stdout",
     "output_type": "stream",
     "text": [
      "Ticker: AAPL\n",
      "Strike Price: 200.0\n",
      "Expiration Date: 2025-07-18 00:00:00\n",
      "Option Type: put\n"
     ]
    }
   ],
   "source": [
    "book = xw.Book('Richspread.xlsx') \n",
    "sht = book.sheets['New_Opt']\n",
    "ticker = sht.range('B2').value # Current stock price\n",
    "K = sht.range('B3').value  # Strike price\n",
    "expiration_date = sht.range('B4').value  # Expiration date of the option\n",
    "Option_type = sht.range('B5').value  # 'call' or 'put'\n",
    "\n",
    "\n",
    "print(f'Ticker: {ticker}')\n",
    "print(f'Strike Price: {K}')\n",
    "print(f'Expiration Date: {expiration_date}')\n",
    "print(f'Option Type: {Option_type}')\n",
    "\n",
    "e_date_c = sht.range('B4').value  # Replace with your desired expiration date string\n",
    "e_date_p = sht.range('B4').value  # Replace with your desired expiration date string"
   ]
  },
  {
   "cell_type": "code",
   "execution_count": 24,
   "id": "e01f8c4a",
   "metadata": {},
   "outputs": [
    {
     "name": "stdout",
     "output_type": "stream",
     "text": [
      "('2025-07-18', '2025-07-25', '2025-08-01', '2025-08-08', '2025-08-15', '2025-08-22', '2025-08-29', '2025-09-19', '2025-10-17', '2025-11-21', '2025-12-19', '2026-01-16', '2026-02-20', '2026-03-20', '2026-05-15', '2026-06-18', '2026-09-18', '2026-12-18', '2027-01-15', '2027-06-17', '2027-12-17')\n",
      "Expiration date for calls: 2025-07-18\n",
      "        contractSymbol             lastTradeDate  strike  lastPrice  bid  ask  \\\n",
      "0  AAPL250718C00090000 2025-07-11 15:38:33+00:00    90.0     120.77  0.0  0.0   \n",
      "1  AAPL250718C00095000 2025-07-11 15:38:33+00:00    95.0     115.75  0.0  0.0   \n",
      "2  AAPL250718C00100000 2025-07-10 19:44:53+00:00   100.0     113.00  0.0  0.0   \n",
      "3  AAPL250718C00105000 2025-07-11 18:09:40+00:00   105.0     106.55  0.0  0.0   \n",
      "4  AAPL250718C00110000 2025-07-11 18:09:40+00:00   110.0     101.54  0.0  0.0   \n",
      "\n",
      "   change  percentChange  volume  openInterest  impliedVolatility  inTheMoney  \\\n",
      "0     0.0            0.0     2.0           405            0.00001        True   \n",
      "1     0.0            0.0     2.0            13            0.00001        True   \n",
      "2     0.0            0.0     4.0           531            0.00001        True   \n",
      "3     0.0            0.0     3.0            40            0.00001        True   \n",
      "4     0.0            0.0    38.0           378            0.00001        True   \n",
      "\n",
      "  contractSize currency  \n",
      "0      REGULAR      USD  \n",
      "1      REGULAR      USD  \n",
      "2      REGULAR      USD  \n",
      "3      REGULAR      USD  \n",
      "4      REGULAR      USD  \n",
      "Expiration date for puts: 2025-07-18\n",
      "        contractSymbol             lastTradeDate  strike  lastPrice  bid  ask  \\\n",
      "0  AAPL250718P00090000 2025-07-09 16:33:08+00:00    90.0       0.01  0.0  0.0   \n",
      "1  AAPL250718P00095000 2025-07-11 13:45:06+00:00    95.0       0.01  0.0  0.0   \n",
      "2  AAPL250718P00100000 2025-07-07 19:51:13+00:00   100.0       0.01  0.0  0.0   \n",
      "3  AAPL250718P00105000 2025-06-30 19:36:54+00:00   105.0       0.01  0.0  0.0   \n",
      "4  AAPL250718P00110000 2025-07-01 18:47:15+00:00   110.0       0.01  0.0  0.0   \n",
      "\n",
      "   change  percentChange  volume  openInterest  impliedVolatility  inTheMoney  \\\n",
      "0     0.0            0.0     1.0          5285           0.500005       False   \n",
      "1     0.0            0.0     2.0          6573           0.500005       False   \n",
      "2     0.0            0.0     2.0          5818           0.500005       False   \n",
      "3     0.0            0.0    39.0          1627           0.500005       False   \n",
      "4     0.0            0.0   526.0          2560           0.500005       False   \n",
      "\n",
      "  contractSize currency  \n",
      "0      REGULAR      USD  \n",
      "1      REGULAR      USD  \n",
      "2      REGULAR      USD  \n",
      "3      REGULAR      USD  \n",
      "4      REGULAR      USD  \n"
     ]
    }
   ],
   "source": [
    "# Use the existing Ticker object\n",
    "ticker_obj = yf.Ticker(ticker)\n",
    "\n",
    "# Print the available expiration dates for options\n",
    "print(ticker_obj.options)\n",
    "\n",
    "# Convert e_date_c and e_date_p to string format 'YYYY-MM-DD'\n",
    "e_date_c_str = e_date_c.strftime('%Y-%m-%d')\n",
    "e_date_p_str = e_date_p.strftime('%Y-%m-%d')\n",
    "\n",
    "# Load current call options data\n",
    "if e_date_c_str not in ticker_obj.options:\n",
    "    raise ValueError(f\"Expiration date {e_date_c_str} not found in available options: {ticker_obj.options}\")\n",
    "calls = ticker_obj.option_chain(e_date_c_str).calls\n",
    "\n",
    "# Load current put options data\n",
    "if e_date_p_str not in ticker_obj.options:\n",
    "    raise ValueError(f\"Expiration date {e_date_p_str} not found in available options: {ticker_obj.options}\")\n",
    "puts = ticker_obj.option_chain(e_date_p_str).puts\n",
    "\n",
    "# Print the expiration date and the first few rows of the call options data\n",
    "print(f\"Expiration date for calls: {e_date_c_str}\")\n",
    "print(calls.head())\n",
    "\n",
    "# Print the expiration date and the first few rows of the put options data\n",
    "print(f\"Expiration date for puts: {e_date_p_str}\")\n",
    "print(puts.head())"
   ]
  },
  {
   "cell_type": "code",
   "execution_count": 25,
   "id": "5dc7d33f",
   "metadata": {},
   "outputs": [
    {
     "name": "stdout",
     "output_type": "stream",
     "text": [
      "Exported calls and puts data to Excel sheet starting at A20 with a blank row in between.\n"
     ]
    }
   ],
   "source": [
    "sht.range('A20:Z1000').clear_contents()\n",
    "\n",
    "# Export calls and puts DataFrames to Excel using xlwings, starting at A20\n",
    "sht.range('A20').value = 'Calls'\n",
    "sht.range('A21').options(index=False).value = calls\n",
    "\n",
    "# Find the next empty row after the calls table to write puts, add 2 for a blank row\n",
    "next_row = sht.range('A21').expand('table').rows.count + 32  # +40 leaves one blank row between tables\n",
    "sht.range(f'A{next_row}').value = 'Puts'\n",
    "sht.range(f'A{next_row+1}').options(index=False).value = puts\n",
    "\n",
    "print(\"Exported calls and puts data to Excel sheet starting at A20 with a blank row in between.\")"
   ]
  },
  {
   "cell_type": "code",
   "execution_count": 26,
   "id": "f8e2fb41",
   "metadata": {},
   "outputs": [
    {
     "name": "stdout",
     "output_type": "stream",
     "text": [
      "\n",
      " contractSymbol             AAPL250718P00200000\n",
      "lastTradeDate        2025-07-11 19:59:52+00:00\n",
      "strike                                   200.0\n",
      "lastPrice                                 0.21\n",
      "bid                                        0.0\n",
      "ask                                        0.0\n",
      "change                                     0.0\n",
      "percentChange                              0.0\n",
      "volume                                  8806.0\n",
      "openInterest                             37100\n",
      "impliedVolatility                     0.062509\n",
      "inTheMoney                               False\n",
      "contractSize                           REGULAR\n",
      "currency                                   USD\n",
      "Name: 27, dtype: object\n"
     ]
    }
   ],
   "source": [
    "# Ticker symbol for asset\n",
    "# ticker = yf.Ticker(ticker)  # Already a Ticker object, do not re-initialize\n",
    "\n",
    "# Get data for call options\n",
    "expiration_date = pd.to_datetime(e_date_c, utc=True)\n",
    "now_day = expiration_date - 5 * pd.tseries.offsets.BDay()\n",
    "now_text = str(now_day).split(' ')[0]\n",
    "if Option_type.lower() == 'call':\n",
    "    option = calls[calls['strike'] == K].iloc[0]\n",
    "elif Option_type.lower() == 'put':\n",
    "    option = puts[puts['strike'] == K].iloc[0]\n",
    "else:\n",
    "    raise ValueError(\"Option_type must be 'call' or 'put'\")\n",
    "\n",
    "# Get the current price of the basic asset\n",
    "hist = ticker_obj.history()\n",
    "# Convert now_text to the same timezone as hist.index\n",
    "now_dt = pd.to_datetime(now_text).tz_localize(hist.index.tz)\n",
    "available_dates = hist.index[hist.index <= now_dt]\n",
    "if len(available_dates) == 0:\n",
    "    raise ValueError(f\"No available trading data on or before {now_text}\")\n",
    "last_trading_day = available_dates[-1]\n",
    "current_price = hist['Close'].loc[last_trading_day]\n",
    "\n",
    "implied_volatility = option['impliedVolatility']  # Convert percentage to decimal\n",
    "\n",
    "# Calculate date for option expiration in years scale\n",
    "time_to_expiration = (expiration_date - now_day).days / 365.0\n",
    "\n",
    "\n",
    "\n",
    "print('\\n', option)"
   ]
  },
  {
   "cell_type": "code",
   "execution_count": 27,
   "id": "1bfe178e",
   "metadata": {},
   "outputs": [
    {
     "name": "stdout",
     "output_type": "stream",
     "text": [
      "Exported selected option data to cell E2.\n"
     ]
    }
   ],
   "source": [
    "# Convert all values in the Series to native Python types for Excel compatibility\n",
    "option_native = option.apply(lambda x: x.item() if hasattr(x, \"item\") else x)\n",
    "\n",
    "# Export the selected option Series to cell E2 as a column\n",
    "sht.range('E2').options(index=True, header=False).value = option_native\n",
    "\n",
    "print(\"Exported selected option data to cell E2.\")"
   ]
  }
 ],
 "metadata": {
  "kernelspec": {
   "display_name": "base",
   "language": "python",
   "name": "python3"
  },
  "language_info": {
   "codemirror_mode": {
    "name": "ipython",
    "version": 3
   },
   "file_extension": ".py",
   "mimetype": "text/x-python",
   "name": "python",
   "nbconvert_exporter": "python",
   "pygments_lexer": "ipython3",
   "version": "3.13.2"
  }
 },
 "nbformat": 4,
 "nbformat_minor": 5
}
